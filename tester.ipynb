{
 "cells": [
  {
   "cell_type": "code",
   "execution_count": 86,
   "metadata": {},
   "outputs": [
    {
     "name": "stdout",
     "output_type": "stream",
     "text": [
      "\u001b[38;5;33m2022-03-10 07:01:46\u001b[38;5;251m \u001b[38;5;34mdeleting old html files \n",
      "\u001b[38;5;33m2022-03-10 07:01:57\u001b[38;5;251m \u001b[38;5;160mabhisaṃharati 2 (copy).html\n",
      "\u001b[38;5;33m2022-03-10 07:02:01\u001b[38;5;251m \u001b[38;5;160mabhūtakkhāna (copy).html\n"
     ]
    }
   ],
   "source": [
    "import pandas as pd\n",
    "import seaborn as sn\n",
    "import matplotlib.pyplot as plt\n",
    "import os\n",
    "import pickle\n",
    "import re\n",
    "from datetime import datetime\n",
    "\n",
    "\n",
    "def timeis():\n",
    "\tglobal blue\n",
    "\tglobal yellow\n",
    "\tglobal green\n",
    "\tglobal red\n",
    "\tglobal white\n",
    "\n",
    "\tblue = \"\\033[38;5;33m\" #blue\n",
    "\tgreen = \"\\033[38;5;34m\" #green\n",
    "\tred= \"\\033[38;5;160m\" #red\n",
    "\tyellow = \"\\033[38;5;220m\" #yellow\n",
    "\twhite = \"\\033[38;5;251m\" #white\n",
    "\tnow = datetime.now()\n",
    "\tcurrent_time = now.strftime(\"%Y-%m-%d %H:%M:%S\")\n",
    "\treturn (f\"{blue}{current_time}{white}\")\n",
    "\n",
    "dpd_df = pd.read_csv(\"../csvs/dpd-full.csv\", sep = \"\\t\", dtype=str)\n",
    "dpd_df_length =  len(dpd_df)\n",
    "\n",
    "\n",
    "\n",
    "\n",
    "\n",
    "\t\t"
   ]
  }
 ],
 "metadata": {
  "interpreter": {
   "hash": "8a94588eda9d64d9e9a351ab8144e55b1fabf5113b54e67dd26a8c27df0381b3"
  },
  "kernelspec": {
   "display_name": "Python 3.10.2 64-bit",
   "language": "python",
   "name": "python3"
  },
  "language_info": {
   "codemirror_mode": {
    "name": "ipython",
    "version": 3
   },
   "file_extension": ".py",
   "mimetype": "text/x-python",
   "name": "python",
   "nbconvert_exporter": "python",
   "pygments_lexer": "ipython3",
   "version": "3.10.2"
  },
  "orig_nbformat": 4
 },
 "nbformat": 4,
 "nbformat_minor": 2
}
